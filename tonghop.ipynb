{
 "cells": [
  {
   "cell_type": "markdown",
   "metadata": {},
   "source": [
    "# 1.Make data\n"
   ]
  },
  {
   "cell_type": "code",
   "execution_count": 2,
   "metadata": {},
   "outputs": [],
   "source": [
    "import cv2\n",
    "import os\n",
    "import uuid\n",
    "\n",
    "# Input and Directory Setup\n",
    "def count_folders(mom_folder_path):\n",
    "    # List all directories in the specified path\n",
    "    folders = [name for name in os.listdir(mom_folder_path) \n",
    "               if os.path.isdir(os.path.join(mom_folder_path, name))]\n",
    "    # Return the count of directories\n",
    "    return len(folders)\n",
    "\n",
    "mom_folder_path = \"E:/machine_learning/New folder/data\"\n",
    "num_labels = count_folders(mom_folder_path)\n",
    "id=str(num_labels)\n",
    "id_path = os.path.join('data', id)\n",
    "os.makedirs(id_path, exist_ok=True)\n",
    "# Video Capture\n",
    "cap = cv2.VideoCapture(0)\n",
    "while cap.isOpened():\n",
    "    ret, frame = cap.read()\n",
    "    if not ret:\n",
    "        break\n",
    "    # Crop the frame\n",
    "    frame = frame[120:120 + 250, 250:250 + 250, :]\n",
    "    \n",
    "    \n",
    "    # Capture and Save Images\n",
    "    if cv2.waitKey(1) == ord('c'):\n",
    "        for i in range(200):\n",
    "            imgname = os.path.join(id_path, '{}.jpg'.format(uuid.uuid1()))\n",
    "            cv2.imwrite(imgname, frame)\n",
    "    # Display the frame        \n",
    "    cv2.imshow('Image Collection', frame)\n",
    "    # Break loop on 'q' key press\n",
    "    if cv2.waitKey(1) == ord('q'):\n",
    "        break\n",
    "# Release and Destroy\n",
    "cap.release()\n",
    "cv2.destroyAllWindows()\n"
   ]
  },
  {
   "cell_type": "markdown",
   "metadata": {},
   "source": [
    "# 2.Build model and data preprocessing"
   ]
  },
  {
   "cell_type": "code",
   "execution_count": 10,
   "metadata": {},
   "outputs": [
    {
     "name": "stdout",
     "output_type": "stream",
     "text": [
      "Found 328 images belonging to 3 classes.\n",
      "Found 81 images belonging to 3 classes.\n",
      "Start training\n",
      "Epoch 1/6\n",
      "\u001b[1m21/21\u001b[0m \u001b[32m━━━━━━━━━━━━━━━━━━━━\u001b[0m\u001b[37m\u001b[0m \u001b[1m40s\u001b[0m 2s/step - accuracy: 0.4640 - loss: 2.0607 - val_accuracy: 0.9877 - val_loss: 0.6137\n",
      "Epoch 2/6\n",
      "\u001b[1m21/21\u001b[0m \u001b[32m━━━━━━━━━━━━━━━━━━━━\u001b[0m\u001b[37m\u001b[0m \u001b[1m34s\u001b[0m 2s/step - accuracy: 0.7557 - loss: 0.6933 - val_accuracy: 0.9877 - val_loss: 0.0963\n",
      "Epoch 3/6\n",
      "\u001b[1m21/21\u001b[0m \u001b[32m━━━━━━━━━━━━━━━━━━━━\u001b[0m\u001b[37m\u001b[0m \u001b[1m34s\u001b[0m 2s/step - accuracy: 0.9836 - loss: 0.0585 - val_accuracy: 0.9877 - val_loss: 0.1937\n",
      "Epoch 4/6\n",
      "\u001b[1m21/21\u001b[0m \u001b[32m━━━━━━━━━━━━━━━━━━━━\u001b[0m\u001b[37m\u001b[0m \u001b[1m34s\u001b[0m 2s/step - accuracy: 0.9791 - loss: 0.1513 - val_accuracy: 0.9877 - val_loss: 0.0801\n",
      "Epoch 5/6\n",
      "\u001b[1m21/21\u001b[0m \u001b[32m━━━━━━━━━━━━━━━━━━━━\u001b[0m\u001b[37m\u001b[0m \u001b[1m34s\u001b[0m 2s/step - accuracy: 0.9643 - loss: 0.1266 - val_accuracy: 0.9877 - val_loss: 0.0327\n",
      "Epoch 6/6\n",
      "\u001b[1m21/21\u001b[0m \u001b[32m━━━━━━━━━━━━━━━━━━━━\u001b[0m\u001b[37m\u001b[0m \u001b[1m35s\u001b[0m 2s/step - accuracy: 0.9962 - loss: 0.0261 - val_accuracy: 1.0000 - val_loss: 0.0044\n"
     ]
    },
    {
     "name": "stderr",
     "output_type": "stream",
     "text": [
      "WARNING:absl:You are saving your model as an HDF5 file via `model.save()` or `keras.saving.save_model(model)`. This file format is considered legacy. We recommend using instead the native Keras format, e.g. `model.save('my_model.keras')` or `keras.saving.save_model(model, 'my_model.keras')`. \n"
     ]
    }
   ],
   "source": [
    "import tensorflow as tf\n",
    "from tensorflow.keras.models import Sequential\n",
    "from tensorflow.keras.layers import Dense, Flatten, MaxPooling2D, Conv2D, Dropout\n",
    "from tensorflow.keras.preprocessing.image import ImageDataGenerator\n",
    "#count labels folder\n",
    "def count_folders(mom_folder_path):\n",
    "    # List all directories in the specified path\n",
    "    folders = [name for name in os.listdir(mom_folder_path) \n",
    "               if os.path.isdir(os.path.join(mom_folder_path, name))]\n",
    "    # Return the count of directories\n",
    "    return len(folders)\n",
    "\n",
    "mom_folder_path = \"E:/machine_learning/New folder/data\"\n",
    "num_labels = count_folders(mom_folder_path)\n",
    "# Model definition\n",
    "\n",
    "model1 = Sequential([\n",
    "    Conv2D(64, (10, 10), padding=\"same\", activation='relu', input_shape=(105, 105, 3)),  # Correct input shape\n",
    "    MaxPooling2D((2, 2)),\n",
    "    Dropout(0.05),\n",
    "    Conv2D(128, (7, 7), padding=\"same\", activation='relu'),\n",
    "    MaxPooling2D((2, 2)),\n",
    "    Dropout(0.2),\n",
    "    Conv2D(128, (4, 4), padding=\"same\", activation='relu'),\n",
    "    MaxPooling2D((2, 2)),\n",
    "    Dropout(0.2),\n",
    "    Conv2D(256, (4, 4), padding=\"same\", activation='relu'),\n",
    "    Flatten(),\n",
    "    Dense(4096, activation='relu'),\n",
    "    Dense(num_labels, activation='softmax'),  # Assuming 3 classes\n",
    "])\n",
    "\n",
    "# Load and preprocess the data\n",
    "data_path = 'E:/machine_learning/New folder/data'\n",
    "\n",
    "# Initialize ImageDataGenerator with rescaling\n",
    "datagen = ImageDataGenerator(rescale=1/255.0, validation_split=0.2)  # 80% training, 20% validation\n",
    "\n",
    "# Load training data\n",
    "train_data = datagen.flow_from_directory(\n",
    "    data_path,\n",
    "    target_size=(105, 105),\n",
    "    batch_size=16,\n",
    "    class_mode='categorical',  # Produces one-hot encoded labels\n",
    "    subset='training',\n",
    "    shuffle=True\n",
    ")\n",
    "\n",
    "# Load validation data\n",
    "val_data = datagen.flow_from_directory(\n",
    "    data_path,\n",
    "    target_size=(105, 105),\n",
    "    batch_size=16,\n",
    "    class_mode='categorical',  # Produces one-hot encoded labels\n",
    "    subset='validation',\n",
    "    shuffle=True\n",
    ")\n",
    "\n",
    "# Compile the model\n",
    "model1.compile(loss='categorical_crossentropy', optimizer='adam', metrics=['accuracy'])\n",
    "\n",
    "# Start training\n",
    "print(\"Start training\")\n",
    "H = model1.fit(train_data, validation_data=val_data, epochs=6)\n",
    "model1.save('faceid_model.h5')"
   ]
  },
  {
   "cell_type": "markdown",
   "metadata": {},
   "source": [
    "# 3.Test model"
   ]
  },
  {
   "cell_type": "markdown",
   "metadata": {},
   "source": [
    "3.1. Test with test set"
   ]
  },
  {
   "cell_type": "code",
   "execution_count": 8,
   "metadata": {},
   "outputs": [
    {
     "ename": "IndexError",
     "evalue": "index 20 is out of bounds for axis 0 with size 16",
     "output_type": "error",
     "traceback": [
      "\u001b[1;31m---------------------------------------------------------------------------\u001b[0m",
      "\u001b[1;31mIndexError\u001b[0m                                Traceback (most recent call last)",
      "Cell \u001b[1;32mIn[8], line 3\u001b[0m\n\u001b[0;32m      1\u001b[0m \u001b[38;5;28;01mfrom\u001b[39;00m \u001b[38;5;21;01mmatplotlib\u001b[39;00m \u001b[38;5;28;01mimport\u001b[39;00m pyplot \u001b[38;5;28;01mas\u001b[39;00m plt\n\u001b[0;32m      2\u001b[0m images, labels \u001b[38;5;241m=\u001b[39m \u001b[38;5;28mnext\u001b[39m(train_data)\n\u001b[1;32m----> 3\u001b[0m plt\u001b[38;5;241m.\u001b[39mimshow(\u001b[43mimages\u001b[49m\u001b[43m[\u001b[49m\u001b[38;5;241;43m20\u001b[39;49m\u001b[43m]\u001b[49m)\n\u001b[0;32m      4\u001b[0m model1\u001b[38;5;241m.\u001b[39mpredict(images[\u001b[38;5;241m20\u001b[39m:\u001b[38;5;241m21\u001b[39m])\n",
      "\u001b[1;31mIndexError\u001b[0m: index 20 is out of bounds for axis 0 with size 16"
     ]
    }
   ],
   "source": [
    "from matplotlib import pyplot as plt\n",
    "images, labels = next(train_data)\n",
    "plt.imshow(images[20])\n",
    "model1.predict(images[20:21])"
   ]
  },
  {
   "cell_type": "markdown",
   "metadata": {},
   "source": [
    "3.2 Update testing"
   ]
  },
  {
   "cell_type": "code",
   "execution_count": 11,
   "metadata": {},
   "outputs": [
    {
     "name": "stderr",
     "output_type": "stream",
     "text": [
      "WARNING:absl:Compiled the loaded model, but the compiled metrics have yet to be built. `model.compile_metrics` will be empty until you train or evaluate the model.\n"
     ]
    },
    {
     "name": "stdout",
     "output_type": "stream",
     "text": [
      "\u001b[1m1/1\u001b[0m \u001b[32m━━━━━━━━━━━━━━━━━━━━\u001b[0m\u001b[37m\u001b[0m \u001b[1m0s\u001b[0m 317ms/step\n"
     ]
    },
    {
     "data": {
      "image/png": "[encoded data removed]",
      "text/plain": [
       "<Figure size 640x480 with 1 Axes>"
      ]
     },
     "metadata": {},
     "output_type": "display_data"
    },
    {
     "name": "stdout",
     "output_type": "stream",
     "text": [
      "Predictions: [[0.00111925 0.94076765 0.05811313]\n",
      " [0.00285249 0.9786688  0.01847872]]\n"
     ]
    }
   ],
   "source": [
    "import cv2\n",
    "import os\n",
    "import uuid\n",
    "import numpy as np\n",
    "from matplotlib import pyplot as plt\n",
    "import tensorflow as tf\n",
    "\n",
    "# Initialize the list to hold the images\n",
    "captured_images = []\n",
    "\n",
    "# Video capture setup\n",
    "cap = cv2.VideoCapture(0)\n",
    "\n",
    "while cap.isOpened():\n",
    "    ret, frame = cap.read()\n",
    "    if not ret:\n",
    "        break\n",
    "    \n",
    "    # Crop the frame\n",
    "    frame = frame[120:120 + 250, 250:250 + 250, :]\n",
    "    \n",
    "    # Display the frame\n",
    "    cv2.imshow('Image Collection', frame)\n",
    "    \n",
    "    # Capture and append image to the list when 'a' is pressed\n",
    "    if cv2.waitKey(1) == ord('a'):\n",
    "        \n",
    "        # Resize the frame to the model's input size (105, 105)\n",
    "        resized_frame = cv2.resize(frame, (105, 105))\n",
    "        # Normalize the image (convert it to float and scale)\n",
    "        normalized_frame = resized_frame / 255.0\n",
    "        # Append the normalized image to the list\n",
    "        captured_images.append(normalized_frame)\n",
    "    \n",
    "    # Exit loop when 'q' is pressed\n",
    "    if cv2.waitKey(1) == ord('q'):\n",
    "        break\n",
    "\n",
    "cap.release()\n",
    "cv2.destroyAllWindows()\n",
    "\n",
    "# Convert the list of images to a NumPy array\n",
    "captured_images_array = np.array(captured_images)\n",
    "# Load the model\n",
    "model2 = tf.keras.models.load_model(\"faceid_model.h5\")\n",
    "# #\n",
    "# # Predict the labels for the captured images\n",
    "predictions = model2.predict(captured_images_array)\n",
    "\n",
    "# # Display the first captured image and its predicted label\n",
    "plt.imshow(captured_images_array[0])\n",
    "plt.title(f\"Predicted Label: {np.argmax(predictions[0])}\")\n",
    "plt.show()\n",
    "\n",
    "# Print all predictions\n",
    "print(\"Predictions:\", predictions)\n"
   ]
  },
  {
   "cell_type": "markdown",
   "metadata": {},
   "source": []
  },
  {
   "cell_type": "code",
   "execution_count": null,
   "metadata": {},
   "outputs": [],
   "source": []
  }
 ],
 "metadata": {
  "kernelspec": {
   "display_name": ".venv",
   "language": "python",
   "name": "python3"
  },
  "language_info": {
   "codemirror_mode": {
    "name": "ipython",
    "version": 3
   },
   "file_extension": ".py",
   "mimetype": "text/x-python",
   "name": "python",
   "nbconvert_exporter": "python",
   "pygments_lexer": "ipython3",
   "version": "3.12.4"
  }
 },
 "nbformat": 4,
 "nbformat_minor": 2
}
